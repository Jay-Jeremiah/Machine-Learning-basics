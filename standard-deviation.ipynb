{
 "cells": [
  {
   "cell_type": "markdown",
   "metadata": {},
   "source": [
    "Standard deviation - Describe how spread out values are \n",
    "\n",
    "Low standard deviation shows that most of the numbers are close to the mean\n",
    "\n",
    "High standard deviation signifies that values are spread out over a wider range"
   ]
  },
  {
   "cell_type": "code",
   "execution_count": 2,
   "metadata": {},
   "outputs": [],
   "source": [
    "import numpy"
   ]
  },
  {
   "cell_type": "code",
   "execution_count": 3,
   "metadata": {},
   "outputs": [
    {
     "name": "stdout",
     "output_type": "stream",
     "text": [
      "0.9\n"
     ]
    }
   ],
   "source": [
    "#std() - keyword to find standard deviation\n",
    "\n",
    "speed = [86,87,88,86,87,85,86]\n",
    "\n",
    "std = numpy.std(speed)\n",
    "\n",
    "print(round(std, 1))"
   ]
  },
  {
   "cell_type": "markdown",
   "metadata": {},
   "source": [
    "Variance - another number that indicates how spread values are\n",
    "\n",
    "Square root of the standard deviation gives us the variance"
   ]
  },
  {
   "cell_type": "code",
   "execution_count": 4,
   "metadata": {},
   "outputs": [
    {
     "name": "stdout",
     "output_type": "stream",
     "text": [
      "1432.2448979591834\n",
      "The rounded off value 1432.2449\n"
     ]
    }
   ],
   "source": [
    "#var() - keyword for calculating the variance \n",
    "\n",
    "distance = [32, 111,138,28,59,77,97]\n",
    "\n",
    "var = numpy.var(distance)\n",
    "\n",
    "print(var)\n",
    "\n",
    "print(\"The rounded off value\",round(var, 4))"
   ]
  }
 ],
 "metadata": {
  "kernelspec": {
   "display_name": "Python 3",
   "language": "python",
   "name": "python3"
  },
  "language_info": {
   "codemirror_mode": {
    "name": "ipython",
    "version": 3
   },
   "file_extension": ".py",
   "mimetype": "text/x-python",
   "name": "python",
   "nbconvert_exporter": "python",
   "pygments_lexer": "ipython3",
   "version": "3.12.3"
  }
 },
 "nbformat": 4,
 "nbformat_minor": 2
}
